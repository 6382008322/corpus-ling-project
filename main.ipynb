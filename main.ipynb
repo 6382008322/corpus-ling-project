{
 "cells": [
  {
   "cell_type": "markdown",
   "metadata": {
    "heading_collapsed": true
   },
   "source": [
    "## Imports"
   ]
  },
  {
   "cell_type": "code",
   "execution_count": 24,
   "metadata": {
    "hidden": true
   },
   "outputs": [
    {
     "data": {
      "text/html": [
       "<style>.container { width:100% !important; }</style>"
      ],
      "text/plain": [
       "<IPython.core.display.HTML object>"
      ]
     },
     "metadata": {},
     "output_type": "display_data"
    }
   ],
   "source": [
    "from IPython.core.display import display, HTML; display(HTML(\"<style>.container { width:100% !important; }</style>\")) # make screen full width\n",
    "%load_ext autoreload\n",
    "%autoreload 2\n",
    "from util.wiki import *\n",
    "from util.util import *\n",
    "from util.evaluation import *"
   ]
  },
  {
   "cell_type": "markdown",
   "metadata": {
    "heading_collapsed": true
   },
   "source": [
    "## Top Bigrams"
   ]
  },
  {
   "cell_type": "code",
   "execution_count": 22,
   "metadata": {
    "hidden": true
   },
   "outputs": [],
   "source": [
    "corpus, language = 'pt', 'th'"
   ]
  },
  {
   "cell_type": "code",
   "execution_count": 25,
   "metadata": {
    "hidden": true
   },
   "outputs": [
    {
     "name": "stdout",
     "output_type": "stream",
     "text": [
      "bigram finished in 0:00:04\n",
      "freq finished in 0:00:02\n",
      "t finished in 0:00:02\n",
      "chi finished in 0:00:02\n"
     ]
    }
   ],
   "source": [
    "create_top_bigrams(corpus, n_bigrams=10000)"
   ]
  },
  {
   "cell_type": "markdown",
   "metadata": {
    "heading_collapsed": true
   },
   "source": [
    "## Corpora"
   ]
  },
  {
   "cell_type": "code",
   "execution_count": 59,
   "metadata": {
    "hidden": true
   },
   "outputs": [],
   "source": [
    "corpus = 'pt'"
   ]
  },
  {
   "cell_type": "code",
   "execution_count": 60,
   "metadata": {
    "hidden": true
   },
   "outputs": [],
   "source": [
    "# create word corpus\n",
    "# create_corpus_word_pt() "
   ]
  },
  {
   "cell_type": "code",
   "execution_count": 61,
   "metadata": {
    "hidden": true,
    "scrolled": true
   },
   "outputs": [
    {
     "name": "stderr",
     "output_type": "stream",
     "text": [
      "100%|██████████| 16166/16166 [05:58<00:00, 45.12it/s]\n",
      "100%|██████████| 16166/16166 [05:00<00:00, 53.79it/s]\n",
      "100%|██████████| 16166/16166 [04:56<00:00, 54.57it/s]\n"
     ]
    }
   ],
   "source": [
    "# create merge corpora\n",
    "create_corpus(corpus, ['chi', 't', 'freq'])"
   ]
  },
  {
   "cell_type": "code",
   "execution_count": 62,
   "metadata": {
    "hidden": true
   },
   "outputs": [],
   "source": [
    "# write files that mallet needs\n",
    "prepare_mallet_data(corpus, ['word', 'chi', 't', 'freq'])"
   ]
  },
  {
   "cell_type": "code",
   "execution_count": 65,
   "metadata": {
    "hidden": true
   },
   "outputs": [
    {
     "name": "stdout",
     "output_type": "stream",
     "text": [
      "w2v finished in 0:14:46\n"
     ]
    }
   ],
   "source": [
    "# train word2vec\n",
    "train_w2v(corpus, ['word', 'chi', 't', 'freq'], vector_size=100, min_count=1, epochs=100)"
   ]
  },
  {
   "cell_type": "code",
   "execution_count": 66,
   "metadata": {
    "hidden": true
   },
   "outputs": [
    {
     "data": {
      "text/plain": [
       "'โรง_เรียน ลด_ปัญหา_เงิน_สนับสนุน บุตร_ชาย_คน_เรียน_โรง_เรียน สนาม อายุ_ปี_เรียน_ชั้น สถาน_ศึกษา_เรียน เตรียม_ทำ_รายงาน โรงเรียนเซนต์แอนดรูส์_แอนนี_ฮันเซน สก้อต จำนวน_คน_เดินทาง_รถ'"
      ]
     },
     "execution_count": 66,
     "metadata": {},
     "output_type": "execute_result"
    }
   ],
   "source": [
    "# explore word2vec\n",
    "model = Word2Vec.load(f'corpus/{corpus}/w2v_model')\n",
    "' '.join([x for (x,y) in model.wv.similar_by_word('โรงเรียน')])"
   ]
  },
  {
   "cell_type": "markdown",
   "metadata": {
    "heading_collapsed": true
   },
   "source": [
    "## Update Results"
   ]
  },
  {
   "cell_type": "code",
   "execution_count": 63,
   "metadata": {
    "hidden": true
   },
   "outputs": [],
   "source": [
    "corpora, types, n_topics, n_keys = ['pt'], ['word', 'chi', 't', 'freq'], [10, 50, 100], [20]"
   ]
  },
  {
   "cell_type": "code",
   "execution_count": 64,
   "metadata": {
    "hidden": true
   },
   "outputs": [
    {
     "name": "stdout",
     "output_type": "stream",
     "text": [
      "pt  chi  0.0057\n",
      "pt  t    0.2491\n",
      "pt  freq 0.2492\n"
     ]
    }
   ],
   "source": [
    "# train document information and merged percentage\n",
    "add_train_info(corpora, types)\n",
    "add_merged_percentage(corpora, types)"
   ]
  },
  {
   "cell_type": "code",
   "execution_count": null,
   "metadata": {
    "hidden": true,
    "scrolled": true
   },
   "outputs": [],
   "source": [
    "# silhouette \n",
    "add_silhouette(corpora, types, n_topics, n_keys, rounds=range(3))"
   ]
  },
  {
   "cell_type": "markdown",
   "metadata": {
    "heading_collapsed": true
   },
   "source": [
    "## Export results"
   ]
  },
  {
   "cell_type": "code",
   "execution_count": 1,
   "metadata": {
    "hidden": true
   },
   "outputs": [],
   "source": [
    "corpora = ['pt']\n",
    "corpora = ['pt', 'wn', 'ny', 'ye', 'cn', 'dp']\n",
    "types, n_topics, n_keys = ['word', 'chi', 't', 'freq'], [10, 50, 100], [20]"
   ]
  },
  {
   "cell_type": "code",
   "execution_count": null,
   "metadata": {
    "hidden": true
   },
   "outputs": [],
   "source": [
    "# export Log-Likelihood, Silhouette, Merged Percentage\n",
    "export_results(corpora, types, n_topics, 20)"
   ]
  },
  {
   "cell_type": "markdown",
   "metadata": {
    "heading_collapsed": true,
    "hidden": true
   },
   "source": [
    "### export doctok to csv"
   ]
  },
  {
   "cell_type": "code",
   "execution_count": 6,
   "metadata": {
    "hidden": true,
    "scrolled": false
   },
   "outputs": [
    {
     "name": "stderr",
     "output_type": "stream",
     "text": [
      "100%|██████████| 14/14 [00:02<00:00,  5.48it/s]\n"
     ]
    }
   ],
   "source": [
    "export_doc_tok()"
   ]
  },
  {
   "cell_type": "markdown",
   "metadata": {
    "heading_collapsed": true,
    "hidden": true
   },
   "source": [
    "### show top bigrams"
   ]
  },
  {
   "cell_type": "code",
   "execution_count": 9,
   "metadata": {
    "hidden": true
   },
   "outputs": [
    {
     "name": "stdout",
     "output_type": "stream",
     "text": [
      "\n",
      " chi\n",
      "一两点钟$ $什刹海, 一中$ $耀华, 一卡通$ $预充值, 一小盅$ $小馍, 一拥而上$ $抢座, 一排桑$ $端坐, 一概$ $蒸发, 一樣咁$ $平靜, 一派$ $浓妆淡抹, 一片笋$ $一两坨肉, 一百五十多$ $一百六十多, 一筆一筆$ $記錄, 一阵$ $唇枪舌战, 丁和青$ $苹果泥, 三五醇$ $差亢龙, 三摩$ $隐于, 三菱$ $商事, 三藩市$ $不无, 上了锅$ $仔后, 上写$ $小字\n",
      "\n",
      " t\n",
      "家$ $店, 味道$ $不错, 第一$ $次, 喜欢$ $吃, 环境$ $不错, 服务$ $态度, 块$ $钱, 喜欢$ $家, 想$ $吃, 比较$ $喜欢, 价格$ $贵, 吃$ $起来, 随便$ $吃吃, 没$ $吃, 价格$ $便宜, 两$ $次, 没$ $想到, 挺$ $好吃, 服务员$ $态度, 吃$ $次\n",
      "\n",
      " freq\n",
      "家$ $店, 味道$ $不错, 第一$ $次, 喜欢$ $吃, 环境$ $不错, 服务$ $态度, 块$ $钱, 没$ $吃, 喜欢$ $家, 想$ $吃, 比较$ $喜欢, 吃$ $次, 次$ $吃, 吃$ $家, 吃$ $起来, 价格$ $贵, 两$ $次, 随便$ $吃吃, 价格$ $便宜, 挺$ $不错\n"
     ]
    }
   ],
   "source": [
    "corpus, types = 'dp', ['chi', 't', 'freq']\n",
    "for type_ in types:\n",
    "    print('\\n',type_)\n",
    "    with open(f'corpus/{corpus}/top_bigrams_{type_}.txt') as f:\n",
    "        lines = f.read().strip().split('\\n')\n",
    "        lines = lines[:20]\n",
    "#         text = ', '.join([line.replace('\\t', ' ') for line in lines])\n",
    "        text = ', '.join([line.replace('\\t', '$ $') for line in lines])\n",
    "        print(text)"
   ]
  },
  {
   "cell_type": "markdown",
   "metadata": {
    "heading_collapsed": true,
    "hidden": true
   },
   "source": [
    "### show keys"
   ]
  },
  {
   "cell_type": "code",
   "execution_count": null,
   "metadata": {
    "hidden": true,
    "scrolled": false
   },
   "outputs": [],
   "source": [
    "corpora, types, = ['pt'], ['word', 'chi', 't', 'freq']\n",
    "for corpus in corpora:\n",
    "    for type_ in types:\n",
    "        print('\\n'+type_+'\\n')\n",
    "        keys = get_keys(corpus, type_, 50, 0, 20)\n",
    "        text = '- ' + '\\\\\\\\\\\\hline\\n- '.join([' '.join([k for k in key]) for key in keys])\n",
    "        text = text.replace('_','\\_')\n",
    "#         text = text.replace(' ', '$ $')\n",
    "        print(text)"
   ]
  }
 ],
 "metadata": {
  "kernelspec": {
   "display_name": "Python [conda env:korean-env]",
   "language": "python",
   "name": "conda-env-korean-env-py"
  },
  "language_info": {
   "codemirror_mode": {
    "name": "ipython",
    "version": 3
   },
   "file_extension": ".py",
   "mimetype": "text/x-python",
   "name": "python",
   "nbconvert_exporter": "python",
   "pygments_lexer": "ipython3",
   "version": "3.8.10"
  }
 },
 "nbformat": 4,
 "nbformat_minor": 2
}
